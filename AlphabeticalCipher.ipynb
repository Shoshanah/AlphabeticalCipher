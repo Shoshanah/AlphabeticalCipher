{
  "nbformat": 4,
  "nbformat_minor": 0,
  "metadata": {
    "colab": {
      "provenance": []
    },
    "kernelspec": {
      "name": "python3",
      "display_name": "Python 3"
    },
    "language_info": {
      "name": "python"
    }
  },
  "cells": [
    {
      "cell_type": "code",
      "execution_count": null,
      "metadata": {
        "id": "gZRmj8-lDQVm"
      },
      "outputs": [],
      "source": [
        "def rolling_alphabet_distance(str1, str2):\n",
        "    \"\"\"Calculates distance between two strings considering rolling alphabet.\"\"\"\n",
        "    for i in range(len(str1)):\n",
        "      diff = abs(ord(str1[i]) - ord(str2[i]))\n",
        "    return min(diff, 26-diff)"
      ]
    },
    {
      "cell_type": "code",
      "source": [
        "def find_optimal_string(input_string, k):\n",
        "  # Create a dictionary mapping letters to numbers\n",
        "  optimal_string = list(input_string)  # Start with the input string\n",
        "  total_distance_to_a = sum(rolling_alphabet_distance(char, 'a') for char in input_string)\n",
        "  if total_distance_to_a <=k:\n",
        "    return \"a\" * len(input_string)\n",
        "  remaining_distance = k\n",
        "  for i in range(len(optimal_string)):\n",
        "    distance_to_a = rolling_alphabet_distance(optimal_string[i], 'a')\n",
        "    if distance_to_a <= remaining_distance:\n",
        "      optimal_string[i] = \"a\"  # Change to 'a' if possible\n",
        "      remaining_distance -= distance_to_a\n",
        "    else:\n",
        "      pass\n",
        "  return \"\".join(optimal_string)\n",
        "\n"
      ],
      "metadata": {
        "id": "9mXkBVZnGoVe"
      },
      "execution_count": null,
      "outputs": []
    },
    {
      "cell_type": "code",
      "source": [
        "# Example usage\n",
        "input_string = \"yz\"\n",
        "k = 3\n",
        "optimal_string = find_optimal_string(input_string, k)\n",
        "print(f\"Optimal string: {optimal_string}\")"
      ],
      "metadata": {
        "colab": {
          "base_uri": "https://localhost:8080/"
        },
        "id": "3Flwja9_Hq5d",
        "outputId": "3a8da0d6-bbe3-4733-aed4-55aea51e47a1"
      },
      "execution_count": null,
      "outputs": [
        {
          "output_type": "stream",
          "name": "stdout",
          "text": [
            "Optimal string: aa\n"
          ]
        }
      ]
    }
  ]
}